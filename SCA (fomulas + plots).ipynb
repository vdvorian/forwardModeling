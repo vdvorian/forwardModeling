{
 "cells": [
  {
   "cell_type": "code",
   "execution_count": 1,
   "id": "5a64044a",
   "metadata": {},
   "outputs": [],
   "source": [
    "import math\n",
    "import matplotlib.pyplot as plt"
   ]
  },
  {
   "cell_type": "code",
   "execution_count": 2,
   "id": "5896e617",
   "metadata": {},
   "outputs": [],
   "source": [
    "def get_all_values_by_SCA(pores, matrix, sampling_step = 100):\n",
    "    # функция принимает на вход два массива следующего вида:\n",
    "    # pores = [bulk_p, shear_p, asp_p], где элементы массива: bulk и shear модули и аспектное отношение флюида,\n",
    "        # насыщающего поры (воздух, например)\n",
    "    # matrix = [bulk_m, shear_m, asp_m]\n",
    "    # porosity - пористость\n",
    "\n",
    "    # возвращает bulk и shear модули композита матрица+поры\n",
    "\n",
    "    k1, n1, asp1 = pores\n",
    "    k2, n2, asp2 = matrix\n",
    "\n",
    "    kbr = []\n",
    "    nbr = []\n",
    "    por = []\n",
    "\n",
    "    # чтобы нигде не было деления на 0\n",
    "    if asp1 == 1:\n",
    "        asp1 = 0.99\n",
    "    if asp2 == 1:\n",
    "        asp2 = 0.99\n",
    "\n",
    "\n",
    "\n",
    "    # вычислим theta и fn (через аспектное отношения), которые понадобятся для дальнейших рассчетов\n",
    "\n",
    "    # asp < 1 - oblate spheroid (сплюснутый элипсоид)\n",
    "    if asp1 < 1:\n",
    "        theta1 = (asp1 / ((1 - asp1 ** 2) ** (3 / 2))) * (math.acos(asp1) - asp1 * math.sqrt(1 - asp1 ** 2))\n",
    "        fn1 = (asp1 ** 2 / (1 - asp1 ** 2)) * (3 * theta1 - 2)\n",
    "\n",
    "    if asp2 < 1:\n",
    "        theta2 = (asp2 / ((1 - asp2 ** 2) ** (3 / 2))) * (math.acos(asp2) - asp2 * math.sqrt(1 - asp2 ** 2))\n",
    "        fn2 = (asp2 ** 2 / (1 - asp2 ** 2)) * (3 * theta2 - 2)\n",
    "\n",
    "    # asp > 1 - prolate spheroid (вытянутый элипсоид)\n",
    "    if asp1 > 1:\n",
    "        theta1 = (asp1 / ((asp1 ** 2 - 1) ** (3 / 2))) * (asp1 * math.sqrt(asp1 ** 2 - 1) - math.acosh(asp1))\n",
    "        fn1 = (asp1 ** 2 / (asp1 ** 2 - 1)) * (2 - 3 * theta1)\n",
    "\n",
    "    if asp2 > 1:\n",
    "        theta2 = (asp2 / ((asp2 ** 2 - 1) ** (3 / 2))) * (asp2 * math.sqrt(asp2 ** 2 - 1) - math.acosh(asp2))\n",
    "        fn2 = (asp2 ** 2 / (asp2 ** 2 - 1)) * (2 - 3 * theta2)\n",
    "\n",
    "\n",
    "    epsilon = 1e-7   # опять же, чтобы нигде не было деления на ноль\n",
    "\n",
    "    if k1 == 0:\n",
    "        k1 = epsilon\n",
    "    if k2 == 0:\n",
    "        k2 = epsilon\n",
    "    if n1 == 0:\n",
    "        n1 = epsilon\n",
    "    if n2 == 0:\n",
    "        n2 = epsilon\n",
    "\n",
    "    # пройдем по всем значениям пористости от 0 до 100%\n",
    "    # x1 - пористость, x2 - содержание твердой компоненты\n",
    "    for x1 in [epsilon] + [i /sampling_step for i in range(1, sampling_step)] + [1 - epsilon]:\n",
    "        x2 = 1 - x1\n",
    "\n",
    "        ksc = x1 * k1 + x2 * k2\n",
    "        nsc = x1 * n1 + x2 * n2\n",
    "        knew = 0\n",
    "        nnew = 0\n",
    "        tol = 1e-6 * k1\n",
    "        d = abs(ksc - knew)\n",
    "        niter = 0\n",
    "\n",
    "        if nsc == 0:\n",
    "            pass\n",
    "\n",
    "        while (d > abs(tol)) and (niter < 3000):\n",
    "            nusc = (3 * ksc - 2 * nsc) / (2 * (3 * ksc + nsc))\n",
    "            a1 = n1 / nsc - 1\n",
    "            a2 = n2 / nsc - 1\n",
    "            b1 = (1 / 3) * (k1 / ksc - n1 / nsc)\n",
    "            b2 = (1 / 3) * (k2 / ksc - n2 / nsc)\n",
    "            r = (1 - 2 * nusc) / (2 * (1 - nusc))\n",
    "\n",
    "            f11 = 1 + a1 * ((3 / 2) * (fn1 + theta1) - r * ((3 / 2) * fn1 + (5 / 2) * theta1 - (4 / 3)))\n",
    "            f12 = 1 + a2 * ((3 / 2) * (fn2 + theta2) - r * ((3 / 2) * fn2 + (5 / 2) * theta2 - (4 / 3)))\n",
    "\n",
    "            f21 = 1 + a1 * (1 + (3 / 2) * (fn1 + theta1) - (r / 2) * (3 * fn1 + 5 * theta1)) + b1 * (3 - 4 * r)\n",
    "            f21 = f21 + (a1 / 2) * (a1 + 3 * b1) * (3 - 4 * r) * (fn1 + theta1 - r * (fn1 - theta1 + 2 * theta1 ** 2))\n",
    "            f22 = 1 + a2 * (1 + (3 / 2) * (fn2 + theta2) - (r / 2) * (3 * fn2 + 5 * theta2)) + b2 * (3 - 4 * r)\n",
    "            f22 = f22 + (a2 / 2) * (a2 + 3 * b2) * (3 - 4 * r) * (fn2 + theta2 - r * (fn2 - theta2 + 2 * theta2 ** 2))\n",
    "\n",
    "            f31 = 1 + a1 * (1 - (fn1 + (3 / 2) * theta1) + r * (fn1 + theta1))\n",
    "            f32 = 1 + a2 * (1 - (fn2 + (3 / 2) * theta2) + r * (fn2 + theta2))\n",
    "\n",
    "            f41 = 1 + (a1 / 4) * (fn1 + 3 * theta1 - r * (fn1 - theta1))\n",
    "            f42 = 1 + (a2 / 4) * (fn2 + 3 * theta2 - r * (fn2 - theta2))\n",
    "\n",
    "            f51 = a1 * (-fn1 + r * (fn1 + theta1 - (4 / 3))) + b1 * theta1 * (3 - 4 * r)\n",
    "            f52 = a2 * (-fn2 + r * (fn2 + theta2 - (4 / 3))) + b2 * theta2 * (3 - 4 * r)\n",
    "\n",
    "            f61 = 1 + a1 * (1 + fn1 - r * (fn1 + theta1)) + b1 * (1 - theta1) * (3 - 4 * r)\n",
    "            f62 = 1 + a2 * (1 + fn2 - r * (fn2 + theta2)) + b2 * (1 - theta2) * (3 - 4 * r)\n",
    "\n",
    "            f71 = 2 + (a1 / 4) * (3 * fn1 + 9 * theta1 - r * (3 * fn1 + 5 * theta1)) + b1 * theta1 * (3 - 4 * r)\n",
    "            f72 = 2 + (a2 / 4) * (3 * fn2 + 9 * theta2 - r * (3 * fn2 + 5 * theta2)) + b2 * theta2 * (3 - 4 * r)\n",
    "\n",
    "            f81 = a1 * (1 - 2 * r + (fn1 / 2) * (r - 1) + (theta1 / 2) * (5 * r - 3)) + b1 * (1 - theta1) * (3 - 4 * r)\n",
    "            f82 = a2 * (1 - 2 * r + (fn2 / 2) * (r - 1) + (theta2 / 2) * (5 * r - 3)) + b2 * (1 - theta2) * (3 - 4 * r)\n",
    "\n",
    "            f91 = a1 * ((r - 1) * fn1 - r * theta1) + b1 * theta1 * (3 - 4 * r)\n",
    "            f92 = a2 * ((r - 1) * fn2 - r * theta2) + b2 * theta2 * (3 - 4 * r)\n",
    "\n",
    "            p1 = 3 * f11 / f21\n",
    "            p2 = 3 * f12 / f22\n",
    "            q1 = (2 / f31) + (1 / f41) + ((f41 * f51 + f61 * f71 - f81 * f91) / (f21 * f41))\n",
    "            q2 = (2 / f32) + (1 / f42) + ((f42 * f52 + f62 * f72 - f82 * f92) / (f22 * f42))\n",
    "\n",
    "            p1 = p1 / 3\n",
    "            p2 = p2 / 3\n",
    "            q1 = q1 / 5\n",
    "            q2 = q2 / 5\n",
    "\n",
    "            knew = (x1 * k1 * p1 + x2 * k2 * p2) / (x1 * p1 + x2 * p2)\n",
    "            nnew = (x1 * n1 * q1 + x2 * n2 * q2) / (x1 * q1 + x2 * q2)\n",
    "\n",
    "            d = abs(ksc - knew)\n",
    "            ksc = knew\n",
    "            nsc = nnew\n",
    "            niter = niter + 1\n",
    "\n",
    "        por.append(x1)   # массив со значениями пористости\n",
    "        kbr.append(ksc)\n",
    "        nbr.append(nsc)\n",
    "\n",
    "    return por, kbr, nbr"
   ]
  },
  {
   "cell_type": "code",
   "execution_count": 3,
   "id": "99388bcb",
   "metadata": {},
   "outputs": [],
   "source": [
    "def get_moduli_by_SCA(get_all_values_by_SCA, pores, matrix, porosity):\n",
    "    por, kbr, nbr = get_all_values_by_SCA(pores, matrix)\n",
    "\n",
    "    index = por.index(porosity / 100)\n",
    "\n",
    "    return [kbr[index], nbr[index]]"
   ]
  },
  {
   "cell_type": "markdown",
   "id": "250d98c8",
   "metadata": {},
   "source": [
    "# Решение"
   ]
  },
  {
   "cell_type": "markdown",
   "id": "d6e770b6",
   "metadata": {},
   "source": [
    "### смешаем смесь (кальцит+доломит+ангидрит) и иллит с помощью SCA "
   ]
  },
  {
   "cell_type": "code",
   "execution_count": 10,
   "id": "8c6ec26a",
   "metadata": {},
   "outputs": [],
   "source": [
    "matrix = [63.11, 33.05, 1]\n",
    "illite = [25.3, 16.3, 0.001]\n",
    "\n",
    "# кальцит, доломит и ангидрит вместе составляют 85% объема композита (это как раз matrix)\n",
    "# теперь добавим к этой смеси еще 10% иллита\n",
    "\n",
    "matrix_proportion = 85\n",
    "ill_proportion = 10"
   ]
  },
  {
   "cell_type": "code",
   "execution_count": 11,
   "id": "6e50d846",
   "metadata": {},
   "outputs": [],
   "source": [
    "por, bulk, shear = get_all_values_by_SCA(illite, matrix, sampling_step = 100)"
   ]
  },
  {
   "cell_type": "code",
   "execution_count": 13,
   "id": "4a69d1ca",
   "metadata": {},
   "outputs": [
    {
     "name": "stdout",
     "output_type": "stream",
     "text": [
      "содержание иллита в смеси твердых компонент: 11\n"
     ]
    }
   ],
   "source": [
    "sum = matrix_proportion + ill_proportion\n",
    "proportion = round((ill_proportion/sum)*100)\n",
    "\n",
    "print('содержание иллита в смеси твердых компонент:', proportion)"
   ]
  },
  {
   "cell_type": "code",
   "execution_count": 61,
   "id": "1922eb9f",
   "metadata": {},
   "outputs": [],
   "source": [
    "def draw_HS_plots(por, bulk, shear, xlabel = 'proportion of illite (unit fractions)',\n",
    "                 file_name = 'cal_dol_anh_ill(SCA).png', title = 'Illite + (Calcite + \\n Dolomite + Anhydrite) (SCA)'):\n",
    "    plt.figure(figsize = (5,5))\n",
    "    plt.plot(por, bulk, c = 'k')\n",
    "    plt.plot(por, shear, c = 'r')\n",
    "    plt.scatter(por[proportion], bulk[proportion], c = 'k')\n",
    "    plt.scatter(por[proportion], shear[proportion], c = 'r')\n",
    "    plt.annotate(round(bulk[proportion], 3), (por[proportion] + 0.025, bulk[proportion] + 1), fontsize = 12)\n",
    "    plt.annotate(round(shear[proportion], 3), (por[proportion] + 0.025, shear[proportion] + 1), fontsize = 12, c = 'r')\n",
    "    plt.xlabel(xlabel, fontsize = 12)\n",
    "    plt.ylabel('elastic moduli (GPa)', fontsize = 12)\n",
    "    plt.legend(['bulk modulus', 'shear modulus'], fontsize = 11)\n",
    "    plt.title(title, fontsize = 18)\n",
    "    \n",
    "    plt.savefig(file_name)"
   ]
  },
  {
   "cell_type": "code",
   "execution_count": 62,
   "id": "acd9fd4d",
   "metadata": {},
   "outputs": [
    {
     "data": {
      "image/png": "[encoded data removed]",
      "text/plain": [
       "<Figure size 360x360 with 1 Axes>"
      ]
     },
     "metadata": {
      "needs_background": "light"
     },
     "output_type": "display_data"
    }
   ],
   "source": [
    "draw_HS_plots(por, bulk, shear, xlabel = 'proportion of illite (unit fractions)',\n",
    "                 file_name = 'cal_dol_anh_ill(SCA).png')"
   ]
  },
  {
   "cell_type": "code",
   "execution_count": 40,
   "id": "eaeab529",
   "metadata": {},
   "outputs": [
    {
     "name": "stdout",
     "output_type": "stream",
     "text": [
      "0.11\n",
      "56.30809043162402\n",
      "30.4517568242186\n"
     ]
    }
   ],
   "source": [
    "print(por[proportion])\n",
    "print(bulk[proportion])\n",
    "print(shear[proportion])"
   ]
  }
 ],
 "metadata": {
  "kernelspec": {
   "display_name": "Python 3 (ipykernel)",
   "language": "python",
   "name": "python3"
  },
  "language_info": {
   "codemirror_mode": {
    "name": "ipython",
    "version": 3
   },
   "file_extension": ".py",
   "mimetype": "text/x-python",
   "name": "python",
   "nbconvert_exporter": "python",
   "pygments_lexer": "ipython3",
   "version": "3.9.12"
  }
 },
 "nbformat": 4,
 "nbformat_minor": 5
}
